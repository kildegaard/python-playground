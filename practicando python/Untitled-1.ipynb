{
 "cells": [
  {
   "cell_type": "code",
   "execution_count": 39,
   "metadata": {},
   "outputs": [],
   "source": [
    "lista = ['Argentina', \"Brasil\", 'Perú', 'Ecuador', 'Chile', 'Colombia', 'Cuba']"
   ]
  },
  {
   "cell_type": "code",
   "execution_count": 2,
   "metadata": {},
   "outputs": [
    {
     "data": {
      "text/plain": [
       "'Brasil'"
      ]
     },
     "execution_count": 2,
     "metadata": {},
     "output_type": "execute_result"
    }
   ],
   "source": [
    "lista[1]"
   ]
  },
  {
   "cell_type": "code",
   "execution_count": 3,
   "metadata": {},
   "outputs": [
    {
     "data": {
      "text/plain": [
       "['Brasil', 'Perú', 'Ecuador', 'Chile']"
      ]
     },
     "execution_count": 3,
     "metadata": {},
     "output_type": "execute_result"
    }
   ],
   "source": [
    "lista[1:5]"
   ]
  },
  {
   "cell_type": "code",
   "execution_count": 5,
   "metadata": {},
   "outputs": [
    {
     "data": {
      "text/plain": [
       "['Argentina', 'Brasil', 'Perú']"
      ]
     },
     "execution_count": 5,
     "metadata": {},
     "output_type": "execute_result"
    }
   ],
   "source": [
    "lista[:3]"
   ]
  },
  {
   "cell_type": "code",
   "execution_count": 7,
   "metadata": {},
   "outputs": [],
   "source": [
    "lista.extend(['Venezuela', 'Colombia'])"
   ]
  },
  {
   "cell_type": "code",
   "execution_count": 8,
   "metadata": {},
   "outputs": [
    {
     "data": {
      "text/plain": [
       "['Argentina',\n",
       " 'Brasil',\n",
       " 'Perú',\n",
       " 'Ecuador',\n",
       " 'Chile',\n",
       " 'Colombia',\n",
       " 'Cuba',\n",
       " 'Venezuela',\n",
       " 'Colombia']"
      ]
     },
     "execution_count": 8,
     "metadata": {},
     "output_type": "execute_result"
    }
   ],
   "source": [
    "lista"
   ]
  },
  {
   "cell_type": "code",
   "execution_count": 9,
   "metadata": {},
   "outputs": [
    {
     "data": {
      "text/plain": [
       "['Argentina',\n",
       " 'Brasil',\n",
       " 'Perú',\n",
       " 'Italia',\n",
       " 'Ecuador',\n",
       " 'Chile',\n",
       " 'Colombia',\n",
       " 'Cuba',\n",
       " 'Venezuela',\n",
       " 'Colombia']"
      ]
     },
     "execution_count": 9,
     "metadata": {},
     "output_type": "execute_result"
    }
   ],
   "source": [
    "lista.insert(3, 'Italia')\n",
    "lista"
   ]
  },
  {
   "cell_type": "code",
   "execution_count": 10,
   "metadata": {},
   "outputs": [],
   "source": [
    "lista_2 = ['CABA', 'GBA', 'Córdoba', 'Santa Fe']"
   ]
  },
  {
   "cell_type": "code",
   "execution_count": 11,
   "metadata": {},
   "outputs": [],
   "source": [
    "lista_3 = lista.extend(lista_2)"
   ]
  },
  {
   "cell_type": "code",
   "execution_count": 14,
   "metadata": {},
   "outputs": [
    {
     "data": {
      "text/plain": [
       "6"
      ]
     },
     "execution_count": 14,
     "metadata": {},
     "output_type": "execute_result"
    }
   ],
   "source": [
    "lista.index('Colombia')"
   ]
  },
  {
   "cell_type": "code",
   "execution_count": 16,
   "metadata": {},
   "outputs": [
    {
     "data": {
      "text/plain": [
       "['Argentina',\n",
       " 'Brasil',\n",
       " 'Perú',\n",
       " 'Italia',\n",
       " 'Ecuador',\n",
       " 'Chile',\n",
       " 'Colombia',\n",
       " 'Cuba',\n",
       " 'Venezuela',\n",
       " 'Colombia',\n",
       " 'CABA',\n",
       " 'GBA',\n",
       " 'Córdoba',\n",
       " 'Santa Fe']"
      ]
     },
     "execution_count": 16,
     "metadata": {},
     "output_type": "execute_result"
    }
   ],
   "source": [
    "lista"
   ]
  },
  {
   "cell_type": "code",
   "execution_count": 18,
   "metadata": {},
   "outputs": [
    {
     "data": {
      "text/plain": [
       "'Córdoba'"
      ]
     },
     "execution_count": 18,
     "metadata": {},
     "output_type": "execute_result"
    }
   ],
   "source": [
    "lista.pop()"
   ]
  },
  {
   "cell_type": "code",
   "execution_count": 19,
   "metadata": {},
   "outputs": [
    {
     "data": {
      "text/plain": [
       "['Argentina',\n",
       " 'Brasil',\n",
       " 'Perú',\n",
       " 'Italia',\n",
       " 'Ecuador',\n",
       " 'Chile',\n",
       " 'Colombia',\n",
       " 'Cuba',\n",
       " 'Venezuela',\n",
       " 'Colombia',\n",
       " 'CABA',\n",
       " 'GBA']"
      ]
     },
     "execution_count": 19,
     "metadata": {},
     "output_type": "execute_result"
    }
   ],
   "source": [
    "lista"
   ]
  },
  {
   "cell_type": "code",
   "execution_count": 21,
   "metadata": {},
   "outputs": [],
   "source": [
    "a = tuple(i for i in range(21))"
   ]
  },
  {
   "cell_type": "code",
   "execution_count": 22,
   "metadata": {},
   "outputs": [
    {
     "data": {
      "text/plain": [
       "(0, 1, 2, 3, 4, 5, 6, 7, 8, 9, 10, 11, 12, 13, 14, 15, 16, 17, 18, 19, 20)"
      ]
     },
     "execution_count": 22,
     "metadata": {},
     "output_type": "execute_result"
    }
   ],
   "source": [
    "a"
   ]
  },
  {
   "cell_type": "code",
   "execution_count": 24,
   "metadata": {},
   "outputs": [
    {
     "data": {
      "text/plain": [
       "True"
      ]
     },
     "execution_count": 24,
     "metadata": {},
     "output_type": "execute_result"
    }
   ],
   "source": [
    "10 in a"
   ]
  },
  {
   "cell_type": "code",
   "execution_count": 25,
   "metadata": {},
   "outputs": [
    {
     "data": {
      "text/plain": [
       "2"
      ]
     },
     "execution_count": 25,
     "metadata": {},
     "output_type": "execute_result"
    }
   ],
   "source": [
    "def contar_pais(pais_buscado, lista):\n",
    "    contador = 0\n",
    "    for pais in lista:\n",
    "        if pais == pais_buscado:\n",
    "            contador += 1\n",
    "    return contador\n",
    "\n",
    "contar_pais('Colombia', lista)"
   ]
  },
  {
   "cell_type": "code",
   "execution_count": 26,
   "metadata": {},
   "outputs": [],
   "source": [
    "b = list(a)"
   ]
  },
  {
   "cell_type": "code",
   "execution_count": 30,
   "metadata": {},
   "outputs": [],
   "source": [
    "primer, segund, tercer, *resto = b"
   ]
  },
  {
   "cell_type": "code",
   "execution_count": 37,
   "metadata": {},
   "outputs": [
    {
     "data": {
      "text/plain": [
       "['Argentina',\n",
       " 'Brasil',\n",
       " 'Perú',\n",
       " 'Italia',\n",
       " 'Ecuador',\n",
       " 'Chile',\n",
       " 'Colombia',\n",
       " 'Cuba',\n",
       " 'Venezuela',\n",
       " 'Colombia',\n",
       " 'CABA',\n",
       " 'GBA']"
      ]
     },
     "execution_count": 37,
     "metadata": {},
     "output_type": "execute_result"
    }
   ],
   "source": [
    "lista"
   ]
  },
  {
   "cell_type": "code",
   "execution_count": 40,
   "metadata": {},
   "outputs": [],
   "source": [
    "diccionario = {'pais': lista}"
   ]
  },
  {
   "cell_type": "code",
   "execution_count": 42,
   "metadata": {},
   "outputs": [
    {
     "data": {
      "text/plain": [
       "['Argentina', 'Brasil', 'Perú', 'Ecuador', 'Chile', 'Colombia', 'Cuba']"
      ]
     },
     "execution_count": 42,
     "metadata": {},
     "output_type": "execute_result"
    }
   ],
   "source": [
    "diccionario['pais']"
   ]
  },
  {
   "cell_type": "code",
   "execution_count": 45,
   "metadata": {},
   "outputs": [],
   "source": [
    "labels = ['Nombre', 'Apellido']\n",
    "nombres = ['Gustavo', 'Agustina', 'Johnson']\n",
    "apellidos = ['Kildegaard', 'García Mansilla', 'Houston']"
   ]
  },
  {
   "cell_type": "code",
   "execution_count": 49,
   "metadata": {},
   "outputs": [],
   "source": [
    "diccio = dict(zip(labels, [nombres, apellidos]))"
   ]
  },
  {
   "cell_type": "code",
   "execution_count": 63,
   "metadata": {},
   "outputs": [
    {
     "data": {
      "text/plain": [
       "dict_keys(['Nombre', 'Apellido'])"
      ]
     },
     "execution_count": 63,
     "metadata": {},
     "output_type": "execute_result"
    }
   ],
   "source": [
    "diccio.keys()"
   ]
  },
  {
   "cell_type": "code",
   "execution_count": 8,
   "metadata": {},
   "outputs": [
    {
     "data": {
      "text/plain": [
       "[-10]"
      ]
     },
     "execution_count": 8,
     "metadata": {},
     "output_type": "execute_result"
    }
   ],
   "source": [
    "n = int(input().strip())\n",
    "\n",
    "list(map(int, input().rstrip().split()))"
   ]
  },
  {
   "cell_type": "code",
   "execution_count": 9,
   "metadata": {},
   "outputs": [
    {
     "data": {
      "text/plain": [
       "0.3333333333333333"
      ]
     },
     "execution_count": 9,
     "metadata": {},
     "output_type": "execute_result"
    }
   ],
   "source": [
    "a = 1/3\n",
    "a"
   ]
  },
  {
   "cell_type": "code",
   "execution_count": 12,
   "metadata": {},
   "outputs": [
    {
     "name": "stdout",
     "output_type": "stream",
     "text": [
      "0.333333\n"
     ]
    }
   ],
   "source": [
    "print(f'{a:.6f}')"
   ]
  },
  {
   "cell_type": "code",
   "execution_count": 18,
   "metadata": {},
   "outputs": [
    {
     "name": "stdout",
     "output_type": "stream",
     "text": [
      "[2, 7, 69, 221, 8974]\n",
      "299 9273\n"
     ]
    }
   ],
   "source": [
    "arr = [7, 69, 2, 221, 8974]\n",
    "sorted_arr = sorted(arr)\n",
    "print(sorted_arr)\n",
    "min = sum(arr[:4])\n",
    "max = sum(arr[0:])\n",
    "print(f'{min} {max}')"
   ]
  },
  {
   "cell_type": "code",
   "execution_count": 19,
   "metadata": {},
   "outputs": [
    {
     "data": {
      "text/plain": [
       "[7, 69, 2, 221]"
      ]
     },
     "execution_count": 19,
     "metadata": {},
     "output_type": "execute_result"
    }
   ],
   "source": [
    "arr[:4]"
   ]
  },
  {
   "cell_type": "code",
   "execution_count": 70,
   "metadata": {},
   "outputs": [],
   "source": [
    "hor1 = '06:04:33PM'\n",
    "hor2 = '05:04:33AM'\n",
    "hor3 = '05:04:33PM'\n",
    "hor4 = '12:00:50PM'\n",
    "hor5 = '12:40:22AM'"
   ]
  },
  {
   "cell_type": "code",
   "execution_count": 75,
   "metadata": {},
   "outputs": [],
   "source": [
    "def timeConversion(s):\n",
    "    if  s[-2:-1] == 'P' and int(s[:2]) < 12:\n",
    "        res = str(int(s[:2]) + 12) + s[2:-2]\n",
    "    elif s[-2:-1] == 'A' and int(s[:2]) == 12:\n",
    "        res = '00' + s[2:-2]\n",
    "    else:\n",
    "        res = s[:-2]\n",
    "    return(res)"
   ]
  },
  {
   "cell_type": "code",
   "execution_count": 80,
   "metadata": {},
   "outputs": [
    {
     "data": {
      "text/plain": [
       "'12:00:50'"
      ]
     },
     "execution_count": 80,
     "metadata": {},
     "output_type": "execute_result"
    }
   ],
   "source": [
    "timeConversion(hor4)"
   ]
  },
  {
   "cell_type": "code",
   "execution_count": 89,
   "metadata": {},
   "outputs": [],
   "source": [
    "arr = [0, 1, 2, 4, 6, 5, 3, 12, 0]\n",
    "def mediana(n):        \n",
    "    arr2 = sorted(arr)\n",
    "    print(arr2)\n",
    "    if len(arr2) % 2 != 0:\n",
    "        .pos = len(arr2) // 2\n",
    "    else:\n",
    "\n",
    "    return arr2[pos]"
   ]
  },
  {
   "cell_type": "code",
   "execution_count": 90,
   "metadata": {},
   "outputs": [
    {
     "name": "stdout",
     "output_type": "stream",
     "text": [
      "[0, 0, 1, 2, 3, 4, 5, 6, 12]\n"
     ]
    },
    {
     "data": {
      "text/plain": [
       "3"
      ]
     },
     "execution_count": 90,
     "metadata": {},
     "output_type": "execute_result"
    }
   ],
   "source": [
    "mediana(arr)"
   ]
  },
  {
   "cell_type": "code",
   "execution_count": 88,
   "metadata": {},
   "outputs": [
    {
     "data": {
      "text/plain": [
       "3"
      ]
     },
     "execution_count": 88,
     "metadata": {},
     "output_type": "execute_result"
    }
   ],
   "source": [
    "len(arr) // 2"
   ]
  },
  {
   "cell_type": "code",
   "execution_count": 109,
   "metadata": {},
   "outputs": [],
   "source": [
    "outer_list = [['A', 100], ['D', 0], ['B', 20], ['A', 0]]"
   ]
  },
  {
   "cell_type": "code",
   "execution_count": 110,
   "metadata": {},
   "outputs": [
    {
     "name": "stdout",
     "output_type": "stream",
     "text": [
      "[['D', 0], ['A', 0], ['B', 20], ['A', 100]]\n"
     ]
    }
   ],
   "source": [
    "ordered_list = sorted(outer_list, key=lambda x: x[1])\n",
    "print(ordered_list)"
   ]
  },
  {
   "cell_type": "code",
   "execution_count": 111,
   "metadata": {},
   "outputs": [
    {
     "name": "stdout",
     "output_type": "stream",
     "text": [
      "[0, 0, 20, 100]\n"
     ]
    }
   ],
   "source": [
    "notas = sorted([x[1] for x in outer_list])\n",
    "print(notas)"
   ]
  },
  {
   "cell_type": "code",
   "execution_count": 113,
   "metadata": {},
   "outputs": [
    {
     "name": "stdout",
     "output_type": "stream",
     "text": [
      "['A', 'D']\n"
     ]
    }
   ],
   "source": [
    "lista_nombres = []\n",
    "for alumno in outer_list:\n",
    "    if alumno[1] == notas[1]:\n",
    "        lista_nombres.append(alumno[0])\n",
    "lista_nombres = sorted(lista_nombres)\n",
    "print(lista_nombres)\n"
   ]
  },
  {
   "cell_type": "code",
   "execution_count": 130,
   "metadata": {},
   "outputs": [],
   "source": [
    "def cosa(lista):\n",
    "    notas = sorted({x[1] for x in lista})\n",
    "    \n",
    "    print(notas)\n",
    "    lista_nombres = []\n",
    "    for alumno in lista:\n",
    "        if alumno[1] == notas[1]:\n",
    "            lista_nombres.append(alumno[0])\n",
    "    lista_nombres = sorted(lista_nombres)\n",
    "    print(lista_nombres)"
   ]
  },
  {
   "cell_type": "code",
   "execution_count": 131,
   "metadata": {},
   "outputs": [],
   "source": [
    "deb = [['Harsh', 20], ['Beria', 20], ['Varun', 19], ['Kakunami', 19], ['Vikas', 21]]"
   ]
  },
  {
   "cell_type": "code",
   "execution_count": 132,
   "metadata": {},
   "outputs": [
    {
     "name": "stdout",
     "output_type": "stream",
     "text": [
      "[19, 20, 21]\n",
      "['Beria', 'Harsh']\n"
     ]
    }
   ],
   "source": [
    "cosa(deb)"
   ]
  },
  {
   "cell_type": "code",
   "execution_count": 133,
   "metadata": {},
   "outputs": [
    {
     "ename": "NameError",
     "evalue": "name 'mean' is not defined",
     "output_type": "error",
     "traceback": [
      "\u001b[1;31m---------------------------------------------------------------------------\u001b[0m",
      "\u001b[1;31mNameError\u001b[0m                                 Traceback (most recent call last)",
      "Cell \u001b[1;32mIn[133], line 2\u001b[0m\n\u001b[0;32m      1\u001b[0m listaa \u001b[38;5;241m=\u001b[39m [\u001b[38;5;241m1\u001b[39m, \u001b[38;5;241m2\u001b[39m, \u001b[38;5;241m3\u001b[39m]\n\u001b[1;32m----> 2\u001b[0m \u001b[43mmean\u001b[49m(listaa)\n",
      "\u001b[1;31mNameError\u001b[0m: name 'mean' is not defined"
     ]
    }
   ],
   "source": [
    "listaa = [1, 2, 3]\n",
    "mean(listaa)"
   ]
  },
  {
   "cell_type": "code",
   "execution_count": 134,
   "metadata": {},
   "outputs": [],
   "source": [
    "palabra = 'abracadabra'"
   ]
  },
  {
   "cell_type": "code",
   "execution_count": 138,
   "metadata": {},
   "outputs": [
    {
     "data": {
      "text/plain": [
       "'abrac'"
      ]
     },
     "execution_count": 138,
     "metadata": {},
     "output_type": "execute_result"
    }
   ],
   "source": [
    "palabra[:5]"
   ]
  },
  {
   "cell_type": "code",
   "execution_count": 143,
   "metadata": {},
   "outputs": [],
   "source": [
    "a = [1, 1, 5, 5, 8, 8, 12, 12, 4, 2, 2]"
   ]
  },
  {
   "cell_type": "code",
   "execution_count": 140,
   "metadata": {},
   "outputs": [
    {
     "data": {
      "text/plain": [
       "2"
      ]
     },
     "execution_count": 140,
     "metadata": {},
     "output_type": "execute_result"
    }
   ],
   "source": [
    "l1.count(1)"
   ]
  },
  {
   "cell_type": "code",
   "execution_count": 142,
   "metadata": {},
   "outputs": [
    {
     "data": {
      "text/plain": [
       "4"
      ]
     },
     "execution_count": 142,
     "metadata": {},
     "output_type": "execute_result"
    }
   ],
   "source": [
    "[elem for elem in l1 if l1.count(elem) == 1][0]"
   ]
  },
  {
   "cell_type": "code",
   "execution_count": 149,
   "metadata": {},
   "outputs": [],
   "source": [
    "res = [elem for elem in a if a.count(elem) == 1]"
   ]
  },
  {
   "cell_type": "code",
   "execution_count": 150,
   "metadata": {},
   "outputs": [
    {
     "name": "stdout",
     "output_type": "stream",
     "text": [
      "[4]\n"
     ]
    }
   ],
   "source": [
    "print(res)"
   ]
  },
  {
   "cell_type": "code",
   "execution_count": 151,
   "metadata": {},
   "outputs": [
    {
     "data": {
      "text/plain": [
       "list"
      ]
     },
     "execution_count": 151,
     "metadata": {},
     "output_type": "execute_result"
    }
   ],
   "source": [
    "type(res)"
   ]
  },
  {
   "cell_type": "code",
   "execution_count": 152,
   "metadata": {},
   "outputs": [
    {
     "data": {
      "text/plain": [
       "True"
      ]
     },
     "execution_count": 152,
     "metadata": {},
     "output_type": "execute_result"
    }
   ],
   "source": [
    "isinstance(res, list)"
   ]
  },
  {
   "cell_type": "code",
   "execution_count": 153,
   "metadata": {},
   "outputs": [],
   "source": [
    "a = [1, 2, 3, 4, 5, [6, 7, [8, [9, 10]]]]"
   ]
  },
  {
   "cell_type": "code",
   "execution_count": 154,
   "metadata": {},
   "outputs": [
    {
     "data": {
      "text/plain": [
       "6"
      ]
     },
     "execution_count": 154,
     "metadata": {},
     "output_type": "execute_result"
    }
   ],
   "source": [
    "len(a)"
   ]
  },
  {
   "cell_type": "code",
   "execution_count": 158,
   "metadata": {},
   "outputs": [
    {
     "ename": "SyntaxError",
     "evalue": "iterable unpacking cannot be used in comprehension (2423295343.py, line 1)",
     "output_type": "error",
     "traceback": [
      "\u001b[1;36m  Cell \u001b[1;32mIn[158], line 1\u001b[1;36m\u001b[0m\n\u001b[1;33m    [*elem if isinstance(elem, list) else elem for elem in a]\u001b[0m\n\u001b[1;37m     ^\u001b[0m\n\u001b[1;31mSyntaxError\u001b[0m\u001b[1;31m:\u001b[0m iterable unpacking cannot be used in comprehension\n"
     ]
    }
   ],
   "source": [
    "[elem if isinstance(elem, list) else elem for elem in a]"
   ]
  },
  {
   "cell_type": "code",
   "execution_count": 159,
   "metadata": {},
   "outputs": [
    {
     "name": "stdout",
     "output_type": "stream",
     "text": [
      "[1, 2, 3, 4, 5, 6, 7, 8, 9, 10]\n"
     ]
    }
   ],
   "source": [
    "def flatten_list(lst):\n",
    "    return [item for sublist in lst for item in (flatten_list(sublist) if isinstance(sublist, list) else [sublist])]\n",
    "\n",
    "a = [1, 2, 3, 4, 5, [6, 7, [8, [9, 10]]]]\n",
    "flattened_a = flatten_list(a)\n",
    "\n",
    "print(flattened_a)"
   ]
  },
  {
   "cell_type": "code",
   "execution_count": 166,
   "metadata": {},
   "outputs": [
    {
     "name": "stdout",
     "output_type": "stream",
     "text": [
      "[2, 1, 2, 3, 4, 5, 6, 7, 8, 9, 10, None]\n"
     ]
    }
   ],
   "source": [
    "def flatten_list(lst):\n",
    "    flat_list = []\n",
    "    stack = [lst]\n",
    "\n",
    "    while stack:\n",
    "        current = stack.pop()\n",
    "        for item in current:\n",
    "            if isinstance(item, list):\n",
    "                stack.append(item)\n",
    "            else:\n",
    "                flat_list.append(item)\n",
    "\n",
    "    return flat_list\n",
    "\n",
    "a = [  [  [  1, 2, 3, 4, 5, [  6, 7, [  8, [  9, 10, [ None ]  ]  ]  ]  ]  ], 2  ]\n",
    "flattened_a = flatten_list(a)\n",
    "\n",
    "print(flattened_a)"
   ]
  },
  {
   "cell_type": "code",
   "execution_count": 174,
   "metadata": {},
   "outputs": [
    {
     "name": "stdout",
     "output_type": "stream",
     "text": [
      "[[1, 2, 3, 4], 'rojo', 'verde', [True, False, False], ['uno', 'dos', 'tres']] longitud: 5\n",
      "['uno', 'dos', 'tres'] longitud: 3\n",
      "[True, False, False] longitud: 3\n",
      "[1, 2, 3, 4] longitud: 4\n"
     ]
    },
    {
     "data": {
      "text/plain": [
       "['rojo', 'verde', 'uno', 'dos', 'tres', True, False, False, 1, 2, 3, 4]"
      ]
     },
     "execution_count": 174,
     "metadata": {},
     "output_type": "execute_result"
    }
   ],
   "source": [
    "def aplanar_lista(lista):\n",
    "    lista_aplanada = []\n",
    "    stack = [lista]\n",
    "\n",
    "    while stack:\n",
    "        # print(stack)\n",
    "        lista_analizada = stack.pop()\n",
    "        print(lista_analizada, 'longitud:', len(lista_analizada))\n",
    "        for elem in lista_analizada:\n",
    "            if isinstance(elem, list):\n",
    "                stack.append(elem)\n",
    "                # print(f'stack: {stack}')\n",
    "            else:\n",
    "                lista_aplanada.append(elem)\n",
    "                # print(f'lista aplanada: {lista_aplanada}')\n",
    "    return lista_aplanada\n",
    "\n",
    "lis = [[1,2,3,4],'rojo','verde',[True,False,False],['uno','dos','tres']]\n",
    "\n",
    "aplanar_lista(lis)"
   ]
  },
  {
   "cell_type": "code",
   "execution_count": 179,
   "metadata": {},
   "outputs": [],
   "source": [
    "def lista_plana(lst):\n",
    "    res = []\n",
    "    for elemento in lst:\n",
    "        if not isinstance(elemento, list):\n",
    "            res.append(elemento)\n",
    "        else:\n",
    "            res.extend(lista_plana(elemento))\n",
    "            \n",
    "    return res"
   ]
  },
  {
   "cell_type": "code",
   "execution_count": 181,
   "metadata": {},
   "outputs": [
    {
     "data": {
      "text/plain": [
       "[1, 2, 3, 4, 5, 6, 7, 8, 9, 10, None, 2]"
      ]
     },
     "execution_count": 181,
     "metadata": {},
     "output_type": "execute_result"
    }
   ],
   "source": [
    "lista_plana(a)"
   ]
  },
  {
   "cell_type": "code",
   "execution_count": 182,
   "metadata": {},
   "outputs": [],
   "source": [
    "def listador(lista):\n",
    "    res = []\n",
    "    for elem in lista:\n",
    "        if isinstance(elem, list):\n",
    "            res.append(elem)\n",
    "        else:\n",
    "            res.append([elem])\n",
    "    return res"
   ]
  },
  {
   "cell_type": "code",
   "execution_count": 184,
   "metadata": {},
   "outputs": [
    {
     "data": {
      "text/plain": [
       "[[1], [2], [3, [4, 5], 6], [7], [8, 9, [10]]]"
      ]
     },
     "execution_count": 184,
     "metadata": {},
     "output_type": "execute_result"
    }
   ],
   "source": [
    "list1 = [1, 2, 3, [4, 5]]\n",
    "list2 = [1, 2, [3, [4, 5], 6], 7, [8, 9, [10]]]\n",
    "listador(list2)"
   ]
  },
  {
   "cell_type": "markdown",
   "metadata": {},
   "source": [
    "Crear una función que al recibir una lista de números, devuelva el que más se repite y cuántas veces lo hace. Si hay más de un \"más repetido\", que devuelva cualquiera"
   ]
  },
  {
   "cell_type": "code",
   "execution_count": 187,
   "metadata": {},
   "outputs": [
    {
     "name": "stdout",
     "output_type": "stream",
     "text": [
      "Número más repetido: 5 - 7 veces\n"
     ]
    }
   ],
   "source": [
    "def num_rep(lista: list) -> int:\n",
    "    from collections import Counter\n",
    "    recuento = Counter(lista)\n",
    "    mas_repe, rep = recuento.most_common(1)[0]\n",
    "    return mas_repe, rep\n",
    "\n",
    "lista_ejemplo = [1, 2, 3, 4, 2, 2, 3, 4, 4, 4, 5, 5, 5, 5, 5, 5, 5]\n",
    "res = num_rep(lista_ejemplo)\n",
    "print(f'Número más repetido: {res[0]} - {res[1]} veces')"
   ]
  },
  {
   "cell_type": "code",
   "execution_count": 196,
   "metadata": {},
   "outputs": [
    {
     "name": "stdout",
     "output_type": "stream",
     "text": [
      "Counter({1: 3, 2: 2, 3: 1, 4: 1, 5: 1, 10: 1})\n"
     ]
    }
   ],
   "source": [
    "from collections import Counter\n",
    "# Crear un Counter vacío\n",
    "contador_vacio = Counter()\n",
    "\n",
    "# Crear un Counter a partir de una lista\n",
    "mi_lista = [1, 2, 3, 1, 2, 1, 4, 5, 10]\n",
    "mi_contador = Counter(mi_lista)\n",
    "print(mi_contador)"
   ]
  },
  {
   "cell_type": "code",
   "execution_count": 190,
   "metadata": {},
   "outputs": [
    {
     "data": {
      "text/plain": [
       "['_keep_positive',\n",
       " 'clear',\n",
       " 'copy',\n",
       " 'elements',\n",
       " 'fromkeys',\n",
       " 'get',\n",
       " 'items',\n",
       " 'keys',\n",
       " 'most_common',\n",
       " 'pop',\n",
       " 'popitem',\n",
       " 'setdefault',\n",
       " 'subtract',\n",
       " 'total',\n",
       " 'update',\n",
       " 'values']"
      ]
     },
     "execution_count": 190,
     "metadata": {},
     "output_type": "execute_result"
    }
   ],
   "source": [
    "funciones = [elem for elem in dir(mi_contador) if elem[:2] != '__']\n",
    "funciones"
   ]
  },
  {
   "cell_type": "code",
   "execution_count": 197,
   "metadata": {},
   "outputs": [
    {
     "data": {
      "text/plain": [
       "dict_keys([1, 2, 3, 4, 5, 10])"
      ]
     },
     "execution_count": 197,
     "metadata": {},
     "output_type": "execute_result"
    }
   ],
   "source": [
    "mi_contador.keys()"
   ]
  },
  {
   "cell_type": "code",
   "execution_count": 198,
   "metadata": {},
   "outputs": [
    {
     "name": "stdout",
     "output_type": "stream",
     "text": [
      "Help on method subtract in module collections:\n",
      "\n",
      "subtract(iterable=None, /, **kwds) method of collections.Counter instance\n",
      "    Like dict.update() but subtracts counts instead of replacing them.\n",
      "    Counts can be reduced below zero.  Both the inputs and outputs are\n",
      "    allowed to contain zero and negative counts.\n",
      "    \n",
      "    Source can be an iterable, a dictionary, or another Counter instance.\n",
      "    \n",
      "    >>> c = Counter('which')\n",
      "    >>> c.subtract('witch')             # subtract elements from another iterable\n",
      "    >>> c.subtract(Counter('watch'))    # subtract elements from another counter\n",
      "    >>> c['h']                          # 2 in which, minus 1 in witch, minus 1 in watch\n",
      "    0\n",
      "    >>> c['w']                          # 1 in which, minus 1 in witch, minus 1 in watch\n",
      "    -1\n",
      "\n"
     ]
    }
   ],
   "source": [
    "help(mi_contador.subtract)"
   ]
  },
  {
   "cell_type": "code",
   "execution_count": 193,
   "metadata": {},
   "outputs": [
    {
     "name": "stdout",
     "output_type": "stream",
     "text": [
      "Help on method total in module collections:\n",
      "\n",
      "total() method of collections.Counter instance\n",
      "    Sum of the counts\n",
      "\n"
     ]
    }
   ],
   "source": [
    "help(mi_contador.total())"
   ]
  },
  {
   "cell_type": "code",
   "execution_count": 202,
   "metadata": {},
   "outputs": [
    {
     "name": "stdout",
     "output_type": "stream",
     "text": [
      "Elementos comunes y sus cuentas:\n",
      "Counter({2: 3, 3: 1, 4: 1})\n"
     ]
    }
   ],
   "source": [
    "from collections import Counter\n",
    "\n",
    "# Dadas dos listas\n",
    "lista1 = [1, 2, 3, 4, 1, 2, 1, 2]\n",
    "lista2 = [2, 3, 4, 5, 2, 3, 2, 2]\n",
    "\n",
    "# Crear contadores para cada lista\n",
    "contador1 = Counter(lista1)\n",
    "contador2 = Counter(lista2)\n",
    "\n",
    "# Encontrar elementos comunes y sus cuentas\n",
    "elementos_comunes = contador1 & contador2\n",
    "\n",
    "print(\"Elementos comunes y sus cuentas:\")\n",
    "print(elementos_comunes)"
   ]
  },
  {
   "cell_type": "code",
   "execution_count": 205,
   "metadata": {},
   "outputs": [
    {
     "data": {
      "text/plain": [
       "Counter({3: 1, 9: 1})"
      ]
     },
     "execution_count": 205,
     "metadata": {},
     "output_type": "execute_result"
    }
   ],
   "source": [
    "lis01 = [1, 2, 3, 9, 10]\n",
    "cont1 = Counter(lis01)\n",
    "lis02 = [3, 9, 20]\n",
    "cont2 = Counter(lis02)\n",
    "cont1 & cont2"
   ]
  },
  {
   "cell_type": "code",
   "execution_count": 212,
   "metadata": {},
   "outputs": [],
   "source": [
    "l1 = ['a', 'b', 'c', 'd']\n",
    "l2 = [1, 2, 3, 4, 5, 6]"
   ]
  },
  {
   "cell_type": "code",
   "execution_count": null,
   "metadata": {},
   "outputs": [],
   "source": [
    "[(a, b) for a in l1 for b in l2]"
   ]
  },
  {
   "cell_type": "code",
   "execution_count": 214,
   "metadata": {},
   "outputs": [
    {
     "data": {
      "text/plain": [
       "[('a', 1),\n",
       " ('a', 2),\n",
       " ('a', 3),\n",
       " ('a', 4),\n",
       " ('a', 5),\n",
       " ('a', 6),\n",
       " ('b', 1),\n",
       " ('b', 2),\n",
       " ('b', 3),\n",
       " ('b', 4),\n",
       " ('b', 5),\n",
       " ('b', 6),\n",
       " ('c', 1),\n",
       " ('c', 2),\n",
       " ('c', 3),\n",
       " ('c', 4),\n",
       " ('c', 5),\n",
       " ('c', 6),\n",
       " ('d', 1),\n",
       " ('d', 2),\n",
       " ('d', 3),\n",
       " ('d', 4),\n",
       " ('d', 5),\n",
       " ('d', 6)]"
      ]
     },
     "execution_count": 214,
     "metadata": {},
     "output_type": "execute_result"
    }
   ],
   "source": [
    "lista = []\n",
    "for a in l1:\n",
    "    for b in l2:\n",
    "        lista.append((a, b))\n",
    "lista"
   ]
  },
  {
   "cell_type": "code",
   "execution_count": null,
   "metadata": {},
   "outputs": [],
   "source": []
  }
 ],
 "metadata": {
  "kernelspec": {
   "display_name": "Python 3",
   "language": "python",
   "name": "python3"
  },
  "language_info": {
   "codemirror_mode": {
    "name": "ipython",
    "version": 3
   },
   "file_extension": ".py",
   "mimetype": "text/x-python",
   "name": "python",
   "nbconvert_exporter": "python",
   "pygments_lexer": "ipython3",
   "version": "3.10.11"
  }
 },
 "nbformat": 4,
 "nbformat_minor": 2
}
