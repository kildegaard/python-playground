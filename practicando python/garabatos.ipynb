{
 "cells": [
  {
   "cell_type": "code",
   "execution_count": 2,
   "metadata": {},
   "outputs": [],
   "source": [
    "cosa = lambda x, y: x + y"
   ]
  },
  {
   "cell_type": "code",
   "execution_count": 3,
   "metadata": {},
   "outputs": [
    {
     "data": {
      "text/plain": [
       "3"
      ]
     },
     "execution_count": 3,
     "metadata": {},
     "output_type": "execute_result"
    }
   ],
   "source": [
    "cosa(1, 2)"
   ]
  },
  {
   "cell_type": "code",
   "execution_count": null,
   "metadata": {},
   "outputs": [],
   "source": [
    "num = [1, 2, 3, 4, 5]\n",
    "num_sq = [x**2 for x in num]"
   ]
  },
  {
   "cell_type": "code",
   "execution_count": 4,
   "metadata": {},
   "outputs": [],
   "source": [
    "from itertools import product"
   ]
  },
  {
   "cell_type": "code",
   "execution_count": 6,
   "metadata": {},
   "outputs": [
    {
     "name": "stdout",
     "output_type": "stream",
     "text": [
      "(1, 'a')\n",
      "(1, 'b')\n",
      "(1, 'c')\n",
      "(1, 'd')\n",
      "(2, 'a')\n",
      "(2, 'b')\n",
      "(2, 'c')\n",
      "(2, 'd')\n",
      "(3, 'a')\n",
      "(3, 'b')\n",
      "(3, 'c')\n",
      "(3, 'd')\n",
      "(4, 'a')\n",
      "(4, 'b')\n",
      "(4, 'c')\n",
      "(4, 'd')\n"
     ]
    }
   ],
   "source": [
    "l1 = [1, 2, 3, 4]\n",
    "l2 = ['a', 'b', 'c', 'd']\n",
    "l3 = product(l1, l2)\n",
    "for elem in l3: print(elem)"
   ]
  },
  {
   "cell_type": "code",
   "execution_count": 39,
   "metadata": {},
   "outputs": [
    {
     "name": "stdout",
     "output_type": "stream",
     "text": [
      "$======123,456,789.123000======\n"
     ]
    }
   ],
   "source": [
    "cosa = 123456789.123\n",
    "print(f'{cosa:=^30,.6f}') "
   ]
  },
  {
   "cell_type": "code",
   "execution_count": 46,
   "metadata": {},
   "outputs": [
    {
     "name": "stdout",
     "output_type": "stream",
     "text": [
      "Product                       Price\n",
      "===================================\n",
      "Apple.........................$5.70\n",
      "Orange........................$4.50\n",
      "Banana........................$6.00\n",
      "Mango.........................$8.60\n",
      "Pepper........................$4.20\n",
      "Carrot........................$3.57\n"
     ]
    }
   ],
   "source": [
    "inventory = [\n",
    "    {\"product\": \"Apple\", \"price\": 5.70},\n",
    "    {\"product\": \"Orange\", \"price\": 4.50},\n",
    "    {\"product\": \"Banana\", \"price\": 6.00},\n",
    "    {\"product\": \"Mango\", \"price\": 8.60},\n",
    "    {\"product\": \"Pepper\", \"price\": 4.20},\n",
    "    {\"product\": \"Carrot\", \"price\": 3.57},\n",
    "]\n",
    "\n",
    "titulo = f\"{'Product':<30}{'Price'}\"\n",
    "print(titulo)\n",
    "print(\"=\" * len(titulo))\n",
    "for item in inventory:\n",
    "    product = item[\"product\"]\n",
    "    price = item[\"price\"]\n",
    "    print(f\"{product:.<30}${price:.2f}\")"
   ]
  },
  {
   "cell_type": "code",
   "execution_count": 103,
   "metadata": {},
   "outputs": [],
   "source": [
    "from datetime import datetime\n",
    "import locale"
   ]
  },
  {
   "cell_type": "code",
   "execution_count": 105,
   "metadata": {},
   "outputs": [
    {
     "data": {
      "text/plain": [
       "('es_ES', 'cp1252')"
      ]
     },
     "execution_count": 105,
     "metadata": {},
     "output_type": "execute_result"
    }
   ],
   "source": [
    "locale.getdefaultlocale()"
   ]
  },
  {
   "cell_type": "code",
   "execution_count": 104,
   "metadata": {},
   "outputs": [
    {
     "name": "stdout",
     "output_type": "stream",
     "text": [
      "Hoy es domingo\n"
     ]
    }
   ],
   "source": [
    "ahora = datetime.now()\n",
    "print(f'Hoy es {ahora:%A}')"
   ]
  },
  {
   "cell_type": "code",
   "execution_count": 77,
   "metadata": {},
   "outputs": [
    {
     "data": {
      "text/plain": [
       "'Sunday'"
      ]
     },
     "execution_count": 77,
     "metadata": {},
     "output_type": "execute_result"
    }
   ],
   "source": [
    "ahora.strftime('%A')"
   ]
  },
  {
   "cell_type": "code",
   "execution_count": 78,
   "metadata": {},
   "outputs": [
    {
     "data": {
      "text/plain": [
       "'es_ES'"
      ]
     },
     "execution_count": 78,
     "metadata": {},
     "output_type": "execute_result"
    }
   ],
   "source": [
    "locale.setlocale(locale.LC_TIME, 'es_ES')"
   ]
  },
  {
   "cell_type": "code",
   "execution_count": 85,
   "metadata": {},
   "outputs": [
    {
     "data": {
      "text/plain": [
       "'domingo'"
      ]
     },
     "execution_count": 85,
     "metadata": {},
     "output_type": "execute_result"
    }
   ],
   "source": [
    "ahora.strftime('%A')"
   ]
  },
  {
   "cell_type": "code",
   "execution_count": 101,
   "metadata": {},
   "outputs": [
    {
     "name": "stdout",
     "output_type": "stream",
     "text": [
      "Hoy es domingo 04 de febrero de 2024 y son las 10:32:52\n"
     ]
    }
   ],
   "source": [
    "print(f'Hoy es {ahora:%A} {ahora:%d} de {ahora:%B} de {ahora:%Y} y son las {ahora:%H:%M:%S}')"
   ]
  }
 ],
 "metadata": {
  "kernelspec": {
   "display_name": "Python 3",
   "language": "python",
   "name": "python3"
  },
  "language_info": {
   "codemirror_mode": {
    "name": "ipython",
    "version": 3
   },
   "file_extension": ".py",
   "mimetype": "text/x-python",
   "name": "python",
   "nbconvert_exporter": "python",
   "pygments_lexer": "ipython3",
   "version": "3.10.11"
  }
 },
 "nbformat": 4,
 "nbformat_minor": 2
}
