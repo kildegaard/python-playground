{
 "cells": [
  {
   "cell_type": "markdown",
   "metadata": {},
   "source": [
    "# Manipulando PDFs con Python - Separar y Unir"
   ]
  },
  {
   "cell_type": "markdown",
   "metadata": {},
   "source": [
    "## Separar un PDF en sus páginas"
   ]
  },
  {
   "cell_type": "code",
   "execution_count": 19,
   "metadata": {},
   "outputs": [],
   "source": [
    "from PyPDF2 import PdfReader, PdfWriter, PdfMerger"
   ]
  },
  {
   "cell_type": "code",
   "execution_count": 3,
   "metadata": {},
   "outputs": [],
   "source": [
    "pdf_a_splitear = './Workday - Instructivo.pdf'\n",
    "pdf_reader = PdfReader(pdf_a_splitear)"
   ]
  },
  {
   "cell_type": "code",
   "execution_count": 15,
   "metadata": {},
   "outputs": [],
   "source": [
    "# Desglosar un pdf en todas sus páginas\n",
    "\n",
    "for index, page in enumerate(pdf_reader.pages):\n",
    "    pdf_writer = PdfWriter()\n",
    "    pdf_writer.add_page(page)\n",
    "    with open(f'./pdf_paginas/Pdf página {index + 1}.pdf', 'wb+') as out:\n",
    "        pdf_writer.write(out)"
   ]
  },
  {
   "cell_type": "code",
   "execution_count": 14,
   "metadata": {},
   "outputs": [],
   "source": [
    "# Seleccionar las páginas que te pinten\n",
    "\n",
    "paginas_deseadas = [1, 3]\n",
    "\n",
    "for index, page in enumerate(pdf_reader.pages):\n",
    "    if index+1 in paginas_deseadas:\n",
    "        pdf_writer = PdfWriter()\n",
    "        pdf_writer.add_page(page)\n",
    "        with open(f'./pdf_paginas_seleccionadas/Pdf página {index + 1}.pdf', 'wb+') as out:\n",
    "            pdf_writer.write(out)"
   ]
  },
  {
   "cell_type": "markdown",
   "metadata": {},
   "source": [
    "## Unir varios PDFs en uno solo"
   ]
  },
  {
   "cell_type": "code",
   "execution_count": 20,
   "metadata": {},
   "outputs": [],
   "source": [
    "# Unir archivos PDF en uno solo\n",
    "\n",
    "pdfs_to_join = ['./pdf_paginas/Pdf página 1.pdf',\n",
    "                './pdf_paginas/Pdf página 2.pdf',\n",
    "                './pdf_paginas/Pdf página 3.pdf',\n",
    "                './pdf_paginas/Pdf página 4.pdf',\n",
    "                './pdf_paginas/Pdf página 5.pdf',\n",
    "                './pdf_paginas/Pdf página 6.pdf',\n",
    "                './pdf_paginas/Pdf página 7.pdf']\n",
    "\n",
    "pdf_name_out = 'pdf_unido.pdf'\n",
    "\n",
    "pdf_final = PdfMerger()\n",
    "\n",
    "for pdf_name in pdfs_to_join:\n",
    "    pdf_final.append(pdf_name)\n",
    "\n",
    "pdf_final.write(pdf_name_out)\n",
    "pdf_final.close()"
   ]
  }
 ],
 "metadata": {
  "kernelspec": {
   "display_name": "Python 3",
   "language": "python",
   "name": "python3"
  },
  "language_info": {
   "codemirror_mode": {
    "name": "ipython",
    "version": 3
   },
   "file_extension": ".py",
   "mimetype": "text/x-python",
   "name": "python",
   "nbconvert_exporter": "python",
   "pygments_lexer": "ipython3",
   "version": "3.11.3"
  },
  "orig_nbformat": 4
 },
 "nbformat": 4,
 "nbformat_minor": 2
}
