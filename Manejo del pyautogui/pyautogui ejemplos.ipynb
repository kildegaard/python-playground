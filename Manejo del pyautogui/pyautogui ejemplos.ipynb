{
 "cells": [
  {
   "cell_type": "code",
   "execution_count": null,
   "metadata": {},
   "outputs": [],
   "source": [
    "import pyautogui\n",
    "import datetime\n",
    "from time import sleep\n",
    "import random"
   ]
  },
  {
   "cell_type": "code",
   "execution_count": null,
   "metadata": {},
   "outputs": [],
   "source": [
    "# Ver la posicion del mouse\n",
    "\n",
    "while True:\n",
    "    print(pyautogui.position())\n",
    "    sleep(1)"
   ]
  },
  {
   "cell_type": "code",
   "execution_count": null,
   "metadata": {},
   "outputs": [],
   "source": [
    "# Click en una posicion\n",
    "\n",
    "pyautogui.click(3800, 1000)"
   ]
  },
  {
   "cell_type": "code",
   "execution_count": null,
   "metadata": {},
   "outputs": [],
   "source": [
    "# Dado un trigger de tiempo especifico hacer algo\n",
    "\n",
    "trigger = '21:00'\n",
    "while True:\n",
    "    ahora = datetime.datetime.now().strftime('%M:%S')\n",
    "    if ahora == trigger:\n",
    "        pyautogui.click(3800, 1000)"
   ]
  },
  {
   "cell_type": "code",
   "execution_count": null,
   "metadata": {},
   "outputs": [],
   "source": [
    "# Enviar un texto predeterminado a un horario especifico haciendo uso del WhatsApp\n",
    "# Clickea en la textbox, escribe el texto y luego clickea en el boton de envío\n",
    "\n",
    "pos_texto = (2500, 1000)\n",
    "pos_boton_envio = (3800, 1000)\n",
    "texto = 'Hola michis!'\n",
    "\n",
    "trigger = '33:40'\n",
    "\n",
    "while True:\n",
    "    ahora = datetime.datetime.now().strftime('%M:%S')\n",
    "    if ahora == trigger:\n",
    "        pyautogui.click(*pos_texto)\n",
    "        sleep(0.5)\n",
    "        pyautogui.typewrite(texto)\n",
    "        sleep(0.5)\n",
    "        pyautogui.click(*pos_boton_envio)"
   ]
  },
  {
   "cell_type": "code",
   "execution_count": null,
   "metadata": {},
   "outputs": [],
   "source": [
    "# Enviando un texto aleatorio siguiendo lo anterior\n",
    "\n",
    "lista_de_frases = ['Frase 1',\n",
    "                   'Frase 2',\n",
    "                   'Frase 3',\n",
    "                   'Frase 4',\n",
    "                   'Frase 5',\n",
    "                   'Frase 6',\n",
    "                   'Frase 7'\n",
    "                   ]\n",
    "\n",
    "pos_texto = (2500, 1000)\n",
    "pos_boton_envio = (3800, 1000)\n",
    "\n",
    "while True:\n",
    "    frase = random.choice(lista_de_frases)\n",
    "    pyautogui.click(*pos_texto)\n",
    "    sleep(0.5)\n",
    "    pyautogui.typewrite(frase)\n",
    "    sleep(0.5)\n",
    "    pyautogui.click(*pos_boton_envio)\n",
    "    sleep(10)"
   ]
  }
 ],
 "metadata": {
  "kernelspec": {
   "display_name": "Python 3",
   "language": "python",
   "name": "python3"
  },
  "language_info": {
   "codemirror_mode": {
    "name": "ipython",
    "version": 3
   },
   "file_extension": ".py",
   "mimetype": "text/x-python",
   "name": "python",
   "nbconvert_exporter": "python",
   "pygments_lexer": "ipython3",
   "version": "3.10.11"
  },
  "orig_nbformat": 4
 },
 "nbformat": 4,
 "nbformat_minor": 2
}
